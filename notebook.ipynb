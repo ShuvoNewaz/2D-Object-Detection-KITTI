{
 "cells": [
  {
   "cell_type": "code",
   "execution_count": 1,
   "metadata": {},
   "outputs": [],
   "source": [
    "from src.data.data_loader import ImageLoader\n",
    "from torch.utils.data import DataLoader\n",
    "from src.data.image_transforms import *\n",
    "import matplotlib.pyplot as plt\n",
    "import numpy as np\n",
    "from matplotlib.gridspec import GridSpec\n",
    "from PIL import Image\n",
    "from src.data.data_utils import *\n",
    "from src.data.collate import *\n",
    "from src.training.optimizer import get_optimizer\n",
    "import torch\n",
    "from src.plots.bounding_box import image_with_bounding_box\n",
    "from src.models.retinanet.resnet import *\n",
    "from src.training.trainer import Trainer\n",
    "import warnings\n",
    "import cv2\n",
    "warnings.filterwarnings(\"ignore\")\n",
    "\n",
    "%load_ext autoreload\n",
    "%autoreload 2"
   ]
  },
  {
   "cell_type": "code",
   "execution_count": 2,
   "metadata": {},
   "outputs": [
    {
     "name": "stdout",
     "output_type": "stream",
     "text": [
      "adamw\n"
     ]
    }
   ],
   "source": [
    "model = resnet152(3, True)\n",
    "optimizer_config = {\"optimizer_type\": \"adamw\", \"lr\": 3e-6, \"weight_decay\": 1e-4}\n",
    "optimizer = get_optimizer(model, optimizer_config)"
   ]
  },
  {
   "cell_type": "code",
   "execution_count": 3,
   "metadata": {},
   "outputs": [],
   "source": [
    "runner = Trainer(data_dir=\"dataset\",\n",
    "                 model=model,\n",
    "                 optimizer=optimizer,\n",
    "                 saved_model_dir=\"saved_models\",\n",
    "                 train_data_transforms=get_train_transforms(),\n",
    "                 val_data_transforms=None,\n",
    "                 batch_size=2,\n",
    "                 inp_size=None,\n",
    "                 load_from_disk=False)"
   ]
  },
  {
   "cell_type": "code",
   "execution_count": 4,
   "metadata": {},
   "outputs": [
    {
     "name": "stdout",
     "output_type": "stream",
     "text": [
      "Epoch:1 Train Classification Loss:0.8367 Train Regression Loss:0.9891 Train Total Loss:1.8257 Train Mean Average Precision: 0.0241\n",
      "Epoch:2 Train Classification Loss:0.6399 Train Regression Loss:0.9535 Train Total Loss:1.5934 Train Mean Average Precision: 0.0600\n",
      "Epoch:3 Train Classification Loss:0.5375 Train Regression Loss:0.8973 Train Total Loss:1.4347 Train Mean Average Precision: 0.0688\n",
      "Epoch:4 Train Classification Loss:0.4859 Train Regression Loss:0.8217 Train Total Loss:1.3077 Train Mean Average Precision: 0.0757\n",
      "Epoch:5 Train Classification Loss:0.4350 Train Regression Loss:0.7499 Train Total Loss:1.1848 Train Mean Average Precision: 0.0850\n",
      "Epoch:6 Train Classification Loss:0.3927 Train Regression Loss:0.6955 Train Total Loss:1.0882 Train Mean Average Precision: 0.0942\n",
      "Epoch:7 Train Classification Loss:0.3536 Train Regression Loss:0.6465 Train Total Loss:1.0000 Train Mean Average Precision: 0.0949\n",
      "Epoch:8 Train Classification Loss:0.3223 Train Regression Loss:0.5961 Train Total Loss:0.9184 Train Mean Average Precision: 0.1115\n",
      "Epoch:9 Train Classification Loss:0.2965 Train Regression Loss:0.5662 Train Total Loss:0.8627 Train Mean Average Precision: 0.1097\n",
      "Epoch:10 Train Classification Loss:0.2792 Train Regression Loss:0.5446 Train Total Loss:0.8238 Train Mean Average Precision: 0.1179\n"
     ]
    }
   ],
   "source": [
    "runner.run_training_loop(10)"
   ]
  }
 ],
 "metadata": {
  "kernelspec": {
   "display_name": "sensor_fusion",
   "language": "python",
   "name": "python3"
  },
  "language_info": {
   "codemirror_mode": {
    "name": "ipython",
    "version": 3
   },
   "file_extension": ".py",
   "mimetype": "text/x-python",
   "name": "python",
   "nbconvert_exporter": "python",
   "pygments_lexer": "ipython3",
   "version": "3.12.3"
  }
 },
 "nbformat": 4,
 "nbformat_minor": 2
}
