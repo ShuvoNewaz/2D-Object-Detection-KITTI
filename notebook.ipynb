{
 "cells": [
  {
   "cell_type": "code",
   "execution_count": 1,
   "metadata": {},
   "outputs": [],
   "source": [
    "from src.data.data_loader import ImageLoader\n",
    "from torch.utils.data import DataLoader\n",
    "from src.data.image_transforms import *\n",
    "import matplotlib.pyplot as plt\n",
    "import numpy as np\n",
    "from matplotlib.gridspec import GridSpec\n",
    "from PIL import Image\n",
    "from src.data.data_utils import *\n",
    "from src.data.collate import *\n",
    "from src.training.optimizer import get_optimizer\n",
    "import torch\n",
    "from src.plots.bounding_box import image_with_bounding_box\n",
    "from src.models.retinanet.resnet import *\n",
    "from src.training.trainer import Trainer\n",
    "import warnings\n",
    "import cv2\n",
    "warnings.filterwarnings(\"ignore\")\n",
    "\n",
    "%load_ext autoreload\n",
    "%autoreload 2"
   ]
  },
  {
   "cell_type": "code",
   "execution_count": null,
   "metadata": {},
   "outputs": [],
   "source": []
  },
  {
   "cell_type": "code",
   "execution_count": null,
   "metadata": {},
   "outputs": [
    {
     "name": "stdout",
     "output_type": "stream",
     "text": [
      "adamw\n"
     ]
    }
   ],
   "source": [
    "model = resnet18(8, True)\n",
    "optimizer_config = {\"optimizer_type\": \"adamw\", \"lr\": 1e-4, \"weight_decay\": 1e-4}\n",
    "optimizer = get_optimizer(model, optimizer_config)"
   ]
  },
  {
   "cell_type": "code",
   "execution_count": 4,
   "metadata": {},
   "outputs": [],
   "source": [
    "runner = Trainer(data_dir=\"dataset\",\n",
    "                 model=model,\n",
    "                 optimizer=optimizer,\n",
    "                 saved_model_dir=\"saved_models\",\n",
    "                 train_data_transforms=get_train_transforms(),\n",
    "                 val_data_transforms=None,\n",
    "                 batch_size=2,\n",
    "                 inp_size=None,\n",
    "                 load_from_disk=False)"
   ]
  },
  {
   "cell_type": "code",
   "execution_count": null,
   "metadata": {},
   "outputs": [
    {
     "name": "stdout",
     "output_type": "stream",
     "text": [
      "Epoch:1 Train Classification Loss:0.5363 Train Regression Loss:0.7740 Train Total Loss:1.3103 Train Mean Average Precision: 0.0087\n",
      "Epoch:2 Train Classification Loss:0.3373 Train Regression Loss:0.5616 Train Total Loss:0.8990 Train Mean Average Precision: 0.0062\n"
     ]
    }
   ],
   "source": [
    "runner.run_training_loop(50)"
   ]
  }
 ],
 "metadata": {
  "kernelspec": {
   "display_name": "sensor_fusion",
   "language": "python",
   "name": "python3"
  },
  "language_info": {
   "codemirror_mode": {
    "name": "ipython",
    "version": 3
   },
   "file_extension": ".py",
   "mimetype": "text/x-python",
   "name": "python",
   "nbconvert_exporter": "python",
   "pygments_lexer": "ipython3",
   "version": "3.12.3"
  }
 },
 "nbformat": 4,
 "nbformat_minor": 2
}
